{
 "cells": [
  {
   "cell_type": "code",
   "execution_count": null,
   "metadata": {},
   "outputs": [],
   "source": [
    "from tensorflow.keras.models import load_model\n",
    "from sklearn.metrics import accuracy_score, precision_score, recall_score, f1_score\n",
    "from load_dataset import load_dataset\n"
   ]
  },
  {
   "cell_type": "code",
   "execution_count": null,
   "metadata": {},
   "outputs": [],
   "source": [
    "# Load the trained models\n",
    "model1 = load_model('model1.h5')\n",
    "model2 = load_model('model2.h5')\n",
    "model3 = load_model('model3.h5')"
   ]
  },
  {
   "cell_type": "code",
   "execution_count": null,
   "metadata": {},
   "outputs": [],
   "source": [
    "# Load the testing dataset\n",
    "X_test = load_dataset('X_test.csv')\n",
    "y_test = load_dataset('y_test.csv')\n"
   ]
  },
  {
   "cell_type": "code",
   "execution_count": null,
   "metadata": {},
   "outputs": [],
   "source": [
    "# Evaluate the performance of the models on the testing dataset\n",
    "y_pred1 = model1.predict(X_test)\n",
    "y_pred2 = model2.predict(X_test)\n",
    "y_pred3 = model3.predict(X_test)\n",
    "\n",
    "acc1 = accuracy_score(y_test, y_pred1)\n",
    "acc2 = accuracy_score(y_test, y_pred2)\n",
    "acc3 = accuracy_score(y_test, y_pred3)\n",
    "\n",
    "prec1 = precision_score(y_test, y_pred1)\n",
    "prec2 = precision_score(y_test, y_pred2)\n",
    "prec3 = precision_score(y_test, y_pred3)\n",
    "\n",
    "rec1 = recall_score(y_test, y_pred1)\n",
    "rec2 = recall_score(y_test, y_pred2)\n",
    "rec3 = recall_score(y_test, y_pred3)\n",
    "\n",
    "f1_1 = f1_score(y_test, y_pred1)\n",
    "f1_2 = f1_score(y_test, y_pred2)\n",
    "f1_3 = f1_score(y_test, y_pred3)\n"
   ]
  },
  {
   "cell_type": "code",
   "execution_count": null,
   "metadata": {},
   "outputs": [],
   "source": [
    "# Select the best-performing model based on the evaluation results\n",
    "if acc1 >= acc2 and acc1 >= acc3:\n",
    "    best_model = model1\n",
    "elif acc2 >= acc1 and acc2 >= acc3:\n",
    "    best_model = model2\n",
    "else:\n",
    "    best_model = model3"
   ]
  }
 ],
 "metadata": {
  "kernelspec": {
   "display_name": "base",
   "language": "python",
   "name": "python3"
  },
  "language_info": {
   "name": "python",
   "version": "3.9.13 (main, Aug 25 2022, 18:29:29) \n[Clang 12.0.0 ]"
  },
  "orig_nbformat": 4,
  "vscode": {
   "interpreter": {
    "hash": "8ec1a6619ca578b6e7afab06ba5dc94294ce529fae3a88f65dfc405f17be744a"
   }
  }
 },
 "nbformat": 4,
 "nbformat_minor": 2
}
