{
 "cells": [
  {
   "cell_type": "code",
   "execution_count": 18,
   "metadata": {},
   "outputs": [],
   "source": [
    "import pandas as pd\n",
    "from pathlib import Path\n",
    "import streamlit as st"
   ]
  },
  {
   "cell_type": "code",
   "execution_count": 19,
   "metadata": {},
   "outputs": [],
   "source": [
    "#with st.form(key='my_form'):text_input=st.text_input(label='Enter your information here')submit_button= st.form_submit_button(label='Submit')"
   ]
  },
  {
   "cell_type": "code",
   "execution_count": 20,
   "metadata": {},
   "outputs": [],
   "source": [
    "#with st.form(key='my_form'):cols = st.columns(8)for i, col in enumerate(cols): col.selectbox(f'Make a Selection', ['click', 'or click'], key=i)submitted = st.form_submit_button('Submit')\n"
   ]
  },
  {
   "cell_type": "code",
   "execution_count": 21,
   "metadata": {},
   "outputs": [],
   "source": [
    "col1, col2, col3, col4, col5, col6,col7,col8 = st.columns(8)\n",
    "\n",
    "with col1:\n",
    "    with st.form('Form1'):\n",
    "        st.selectbox('IBM', ['click', 'or click'], key=i)\n",
    "        submitted1 = st.form_submit_button('Submit 1')\n",
    "\n",
    "with col2:\n",
    "    with st.form('Form2'):\n",
    "       st.selectbox('IBM', ['click', 'or click'], key=i)\n",
    "       submitted2 = st.form_submit_button('Submit 2')\n",
    "with col3:\n",
    "    with st.form('Form3'):\n",
    "       st.selectbox('IBM', ['click', 'or click'], key=i)\n",
    "       submitted2 = st.form_submit_button('Submit 3')\n",
    "with col4:\n",
    "    with st.form('Form4'):\n",
    "       st.selectbox('IBM', ['click', 'or click'], key=i)\n",
    "       submitted2 = st.form_submit_button('Submit 4')\n",
    "with col5:\n",
    "    with st.form('Form5'):\n",
    "       st.selectbox('IBM', ['click', 'or click'], key=i)\n",
    "       submitted2 = st.form_submit_button('Submit 5')\n",
    "with col6:\n",
    "    with st.form('Form6'):\n",
    "       st.selectbox('IBM', ['click', 'or click'], key=i)\n",
    "       submitted2 = st.form_submit_button('Submit 6')\n",
    "with col7:\n",
    "    with st.form('Form7'):\n",
    "       st.selectbox('IBM', ['click', 'or click'], key=i)\n",
    "       submitted2 = st.form_submit_button('Submit 7')\n",
    "with col8:\n",
    "    with st.form('Form8'):\n",
    "       st.selectbox('IBM', ['click', 'or click'], key=i)\n",
    "       submitted2 = st.form_submit_button('Submit 8')"
   ]
  }
 ],
 "metadata": {
  "kernelspec": {
   "display_name": "dev",
   "language": "python",
   "name": "python3"
  },
  "language_info": {
   "codemirror_mode": {
    "name": "ipython",
    "version": 3
   },
   "file_extension": ".py",
   "mimetype": "text/x-python",
   "name": "python",
   "nbconvert_exporter": "python",
   "pygments_lexer": "ipython3",
   "version": "3.7.15"
  },
  "orig_nbformat": 4
 },
 "nbformat": 4,
 "nbformat_minor": 2
}
