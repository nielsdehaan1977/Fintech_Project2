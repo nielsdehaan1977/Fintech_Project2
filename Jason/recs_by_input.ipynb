{
 "cells": [
  {
   "cell_type": "code",
   "execution_count": 13,
   "id": "8c58636a-8179-49c3-96d3-e2c10047481c",
   "metadata": {},
   "outputs": [],
   "source": [
    "BMI=25\n",
    "#BMI range source: https://www.cdc.gov/healthyweight/assessing/index.html"
   ]
  },
  {
   "cell_type": "code",
   "execution_count": 26,
   "id": "0de7e586-3fa4-4d8e-93e5-fee8ed21e2c5",
   "metadata": {},
   "outputs": [
    {
     "name": "stdout",
     "output_type": "stream",
     "text": [
      "BMI recommendation: You are overweight. Consider increasing physical activity level and/or decreasing caloric intake. You are at increased risk for diabetes and may benefit from a consultation with a physician and/or nutritionist.\n"
     ]
    }
   ],
   "source": [
    "if BMI <= 18.5:\n",
    "    print (\"BMI recommendation: You are underweight. Consider increasing calorie intake to acheive a healthier BMI.\")\n",
    "elif 18.5<BMI<24.9:\n",
    "        print('BMI recommendation: Excellent job! You are in a healthy weight range!')\n",
    "elif 25.0<=BMI<29.9:\n",
    "        print('BMI recommendation: You are overweight. Consider increasing physical activity level and/or decreasing caloric intake. You are at increased risk for diabetes and may benefit from a consultation with a physician and/or nutritionist.')\n",
    "else:\n",
    "    print('BMI recommendation: You fall into the obese range. You are at high risk for developing diabetes. Please consult a physician to determine your next steps towards obtaining a healthy BMI.')"
   ]
  },
  {
   "cell_type": "code",
   "execution_count": 27,
   "id": "d142e45a-4c5d-4a87-b90c-0a05380d1f6a",
   "metadata": {},
   "outputs": [],
   "source": [
    "Glucose = 130\n",
    "#Glucose range source: https://www.cdc.gov/diabetes/basics/getting-tested.html#:~:text=Fasting%20Blood%20Sugar%20Test,higher%20indicates%20you%20have%20diabetes.\n",
    "#values in mg/dL"
   ]
  },
  {
   "cell_type": "code",
   "execution_count": 28,
   "id": "804663a3-9901-4fed-b484-aada95fb8d50",
   "metadata": {},
   "outputs": [
    {
     "name": "stdout",
     "output_type": "stream",
     "text": [
      "You are diabetic. Please seek physician attention immediately to avoid further complications.\n"
     ]
    }
   ],
   "source": [
    "if Glucose <=99:\n",
    "    print('Glucose levels normal. You are not at risk for diabetes at this time.')\n",
    "elif 100<=Glucose<=125:\n",
    "    print('Glucose level is in the prediabetic range. You are at significant risk for developing diabetes without lifestyle modifications. Please consult a physician and nutritionist.')\n",
    "else:\n",
    "    print('You are diabetic. Please seek physician attention immediately to avoid further complications.')"
   ]
  },
  {
   "cell_type": "code",
   "execution_count": 29,
   "id": "78337eeb-b5a6-4b34-8bbc-b1111a094497",
   "metadata": {},
   "outputs": [],
   "source": [
    "BloodPressure = 84\n",
    "#source: AHA (American Heart Association guidelines)\n",
    "#values for diastolic BP, units mm Hg. It should be noted that a htn diagnosis depends on both diastolic\n",
    "#and systolic bp's, but the systolic bp's were not available in this dataset"
   ]
  },
  {
   "cell_type": "code",
   "execution_count": 30,
   "id": "d038077d-bd98-47fa-8642-1d78dd90ed66",
   "metadata": {},
   "outputs": [
    {
     "name": "stdout",
     "output_type": "stream",
     "text": [
      "You have Stage 1 Hypertension. Though this result is minimally related to diabetes, please seek physician attention to determine changes in diet, exercise, and medication.\n"
     ]
    }
   ],
   "source": [
    "if BloodPressure <80:\n",
    "    print('You have normal blood pressure.')\n",
    "elif 80<=BloodPressure<=89:\n",
    "    print('You have Stage 1 Hypertension. Though this result is minimally related to diabetes, please seek physician attention to determine changes in diet, exercise, and medication.')\n",
    "elif 90<=BloodPressure<=120:\n",
    "    print('You have Stage 2 Hypertension. Though this result is minimally related to diabetes, please seek immediate physician attention to determine changes in diet, exercise, and medication to avoid end organ damage.')\n",
    "else:\n",
    "    print('You are in hypertensive crisis. Go to the emergency room immediately to avoid heart attack, stroke, cerebral hemorrhage or other life threatening complications.') "
   ]
  },
  {
   "cell_type": "code",
   "execution_count": 31,
   "id": "ca059c01-639a-4e86-9fb6-ab87f91f3047",
   "metadata": {},
   "outputs": [],
   "source": [
    "Insulin = 170\n",
    "#values in uU/mL 2 hrs after glucose administration (not fasting)\n",
    "#source: https://emedicine.medscape.com/article/2089224-overview (medscape)"
   ]
  },
  {
   "cell_type": "code",
   "execution_count": 32,
   "id": "e4c1fdeb-7b81-423b-bce4-fb757c7b3590",
   "metadata": {},
   "outputs": [
    {
     "name": "stdout",
     "output_type": "stream",
     "text": [
      "Insulin level high. Please consult a physician immediately to prevent further complications.\n"
     ]
    }
   ],
   "source": [
    "if Insulin < 16:\n",
    "    print('Insulin level low. Please consult a physician immediately to prevent further complications.')\n",
    "elif 16<=Insulin<=166:\n",
    "    print('Normal insulin level reported.')\n",
    "else:\n",
    "    print('Insulin level high. Please consult a physician immediately to prevent further complications.')"
   ]
  },
  {
   "cell_type": "code",
   "execution_count": 34,
   "id": "24d59ae0-0fb3-45f0-a7b6-5ff71b3a1005",
   "metadata": {},
   "outputs": [],
   "source": [
    "DiabetesPedigreeFunction = 0.335\n",
    "#evaluation of family history to determine increased risk of developing diabetes\n",
    "#source: https://assets.researchsquare.com/files/rs-1753046/v1_covered.pdf?c=1655141180"
   ]
  },
  {
   "cell_type": "code",
   "execution_count": 35,
   "id": "77837987-6d0d-4e23-9eff-6fbc61402bc3",
   "metadata": {},
   "outputs": [
    {
     "name": "stdout",
     "output_type": "stream",
     "text": [
      "You are not at increased risk for diabetes based on your family history.\n"
     ]
    }
   ],
   "source": [
    "if DiabetesPedigreeFunction <= 0.448:\n",
    "    print('You are not at increased risk for diabetes based on your family history.')\n",
    "else:\n",
    "    print('You are at increased risk for developing diabetes based on your family history.')"
   ]
  },
  {
   "cell_type": "code",
   "execution_count": null,
   "id": "3aaf8205-a770-4e0a-bb21-169b548cf8ba",
   "metadata": {},
   "outputs": [],
   "source": []
  }
 ],
 "metadata": {
  "kernelspec": {
   "display_name": "dev",
   "language": "python",
   "name": "dev"
  },
  "language_info": {
   "codemirror_mode": {
    "name": "ipython",
    "version": 3
   },
   "file_extension": ".py",
   "mimetype": "text/x-python",
   "name": "python",
   "nbconvert_exporter": "python",
   "pygments_lexer": "ipython3",
   "version": "3.7.15"
  }
 },
 "nbformat": 4,
 "nbformat_minor": 5
}
